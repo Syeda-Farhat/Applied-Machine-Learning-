{
  "nbformat": 4,
  "nbformat_minor": 0,
  "metadata": {
    "colab": {
      "provenance": []
    },
    "kernelspec": {
      "name": "python3",
      "display_name": "Python 3"
    },
    "language_info": {
      "name": "python"
    }
  },
  "cells": [
    {
      "cell_type": "markdown",
      "source": [
        "Data Preprocessing and EDA using numeric Data"
      ],
      "metadata": {
        "id": "JnfTsafahUjT"
      }
    },
    {
      "cell_type": "code",
      "execution_count": 32,
      "metadata": {
        "id": "JlrisERagy1u"
      },
      "outputs": [],
      "source": [
        "# Import necessary libraries\n",
        "import pandas as pd\n",
        "import numpy as np\n",
        "import matplotlib.pyplot as plt\n",
        "import seaborn as sns\n",
        "from sklearn.model_selection import train_test_split\n",
        "from sklearn.preprocessing import MinMaxScaler\n",
        "from sklearn.preprocessing import StandardScaler"
      ]
    },
    {
      "cell_type": "code",
      "source": [
        "# mount drive\n",
        "from google.colab import drive\n",
        "\n",
        "# Mount Google Drive\n",
        "drive.mount('/content/drive')"
      ],
      "metadata": {
        "colab": {
          "base_uri": "https://localhost:8080/"
        },
        "id": "cZvaKXLSg7Up",
        "outputId": "6357e47c-9742-4c00-87d5-54017ee74f9c"
      },
      "execution_count": 2,
      "outputs": [
        {
          "output_type": "stream",
          "name": "stdout",
          "text": [
            "Mounted at /content/drive\n"
          ]
        }
      ]
    },
    {
      "cell_type": "code",
      "source": [
        "df = pd.read_csv('/content/drive/MyDrive/accidents_2012_to_2014.csv')"
      ],
      "metadata": {
        "colab": {
          "base_uri": "https://localhost:8080/"
        },
        "id": "vDtFuByziMIX",
        "outputId": "749b7467-cf9b-49bd-f11e-66b1cfd0ee18"
      },
      "execution_count": 16,
      "outputs": [
        {
          "output_type": "stream",
          "name": "stderr",
          "text": [
            "<ipython-input-16-00e81926b63d>:1: DtypeWarning: Columns (31) have mixed types. Specify dtype option on import or set low_memory=False.\n",
            "  df = pd.read_csv('/content/drive/MyDrive/accidents_2012_to_2014.csv')\n"
          ]
        }
      ]
    },
    {
      "cell_type": "code",
      "source": [
        "df.head()"
      ],
      "metadata": {
        "colab": {
          "base_uri": "https://localhost:8080/",
          "height": 411
        },
        "id": "5xSqQkNJg7g0",
        "outputId": "0613a5f7-2fd9-468f-fb34-d043a7cd4cf5"
      },
      "execution_count": 17,
      "outputs": [
        {
          "output_type": "execute_result",
          "data": {
            "text/plain": [
              "  Accident_Index  Location_Easting_OSGR  Location_Northing_OSGR  Longitude  \\\n",
              "0  201201BS70001                 527200                  178760  -0.169101   \n",
              "1  201201BS70002                 524930                  181430  -0.200838   \n",
              "2  201201BS70003                 525860                  178080  -0.188636   \n",
              "3  201201BS70004                 524980                  181030  -0.200259   \n",
              "4  201201BS70005                 526170                  179200  -0.183773   \n",
              "\n",
              "    Latitude  Police_Force  Accident_Severity  Number_of_Vehicles  \\\n",
              "0  51.493429             1                  3                   2   \n",
              "1  51.517931             1                  3                   2   \n",
              "2  51.487618             1                  3                   2   \n",
              "3  51.514325             1                  3                   1   \n",
              "4  51.497614             1                  3                   1   \n",
              "\n",
              "   Number_of_Casualties        Date  ...  \\\n",
              "0                     1  19/01/2012  ...   \n",
              "1                     1  04/01/2012  ...   \n",
              "2                     1  10/01/2012  ...   \n",
              "3                     1  18/01/2012  ...   \n",
              "4                     1  17/01/2012  ...   \n",
              "\n",
              "       Pedestrian_Crossing-Physical_Facilities  \\\n",
              "0  Pedestrian phase at traffic signal junction   \n",
              "1        No physical crossing within 50 meters   \n",
              "2             non-junction pedestrian crossing   \n",
              "3        No physical crossing within 50 meters   \n",
              "4        No physical crossing within 50 meters   \n",
              "\n",
              "                          Light_Conditions       Weather_Conditions  \\\n",
              "0  Darkness: Street lights present and lit  Fine without high winds   \n",
              "1  Darkness: Street lights present and lit  Fine without high winds   \n",
              "2           Daylight: Street light present  Fine without high winds   \n",
              "3           Daylight: Street light present  Fine without high winds   \n",
              "4  Darkness: Street lights present and lit  Fine without high winds   \n",
              "\n",
              "  Road_Surface_Conditions  Special_Conditions_at_Site  Carriageway_Hazards  \\\n",
              "0                     Dry                        None                 None   \n",
              "1                     Dry                        None                 None   \n",
              "2                     Dry                        None                 None   \n",
              "3                     Dry                        None                 None   \n",
              "4                     Dry                        None                 None   \n",
              "\n",
              "  Urban_or_Rural_Area  Did_Police_Officer_Attend_Scene_of_Accident  \\\n",
              "0                   1                                          Yes   \n",
              "1                   1                                          Yes   \n",
              "2                   1                                          Yes   \n",
              "3                   1                                          Yes   \n",
              "4                   1                                          Yes   \n",
              "\n",
              "   LSOA_of_Accident_Location  Year  \n",
              "0                  E01002821  2012  \n",
              "1                  E01004760  2012  \n",
              "2                  E01002893  2012  \n",
              "3                  E01002886  2012  \n",
              "4                  E01002890  2012  \n",
              "\n",
              "[5 rows x 33 columns]"
            ],
            "text/html": [
              "\n",
              "  <div id=\"df-5fe79f00-0a54-4c26-92fe-492fb9aa5127\" class=\"colab-df-container\">\n",
              "    <div>\n",
              "<style scoped>\n",
              "    .dataframe tbody tr th:only-of-type {\n",
              "        vertical-align: middle;\n",
              "    }\n",
              "\n",
              "    .dataframe tbody tr th {\n",
              "        vertical-align: top;\n",
              "    }\n",
              "\n",
              "    .dataframe thead th {\n",
              "        text-align: right;\n",
              "    }\n",
              "</style>\n",
              "<table border=\"1\" class=\"dataframe\">\n",
              "  <thead>\n",
              "    <tr style=\"text-align: right;\">\n",
              "      <th></th>\n",
              "      <th>Accident_Index</th>\n",
              "      <th>Location_Easting_OSGR</th>\n",
              "      <th>Location_Northing_OSGR</th>\n",
              "      <th>Longitude</th>\n",
              "      <th>Latitude</th>\n",
              "      <th>Police_Force</th>\n",
              "      <th>Accident_Severity</th>\n",
              "      <th>Number_of_Vehicles</th>\n",
              "      <th>Number_of_Casualties</th>\n",
              "      <th>Date</th>\n",
              "      <th>...</th>\n",
              "      <th>Pedestrian_Crossing-Physical_Facilities</th>\n",
              "      <th>Light_Conditions</th>\n",
              "      <th>Weather_Conditions</th>\n",
              "      <th>Road_Surface_Conditions</th>\n",
              "      <th>Special_Conditions_at_Site</th>\n",
              "      <th>Carriageway_Hazards</th>\n",
              "      <th>Urban_or_Rural_Area</th>\n",
              "      <th>Did_Police_Officer_Attend_Scene_of_Accident</th>\n",
              "      <th>LSOA_of_Accident_Location</th>\n",
              "      <th>Year</th>\n",
              "    </tr>\n",
              "  </thead>\n",
              "  <tbody>\n",
              "    <tr>\n",
              "      <th>0</th>\n",
              "      <td>201201BS70001</td>\n",
              "      <td>527200</td>\n",
              "      <td>178760</td>\n",
              "      <td>-0.169101</td>\n",
              "      <td>51.493429</td>\n",
              "      <td>1</td>\n",
              "      <td>3</td>\n",
              "      <td>2</td>\n",
              "      <td>1</td>\n",
              "      <td>19/01/2012</td>\n",
              "      <td>...</td>\n",
              "      <td>Pedestrian phase at traffic signal junction</td>\n",
              "      <td>Darkness: Street lights present and lit</td>\n",
              "      <td>Fine without high winds</td>\n",
              "      <td>Dry</td>\n",
              "      <td>None</td>\n",
              "      <td>None</td>\n",
              "      <td>1</td>\n",
              "      <td>Yes</td>\n",
              "      <td>E01002821</td>\n",
              "      <td>2012</td>\n",
              "    </tr>\n",
              "    <tr>\n",
              "      <th>1</th>\n",
              "      <td>201201BS70002</td>\n",
              "      <td>524930</td>\n",
              "      <td>181430</td>\n",
              "      <td>-0.200838</td>\n",
              "      <td>51.517931</td>\n",
              "      <td>1</td>\n",
              "      <td>3</td>\n",
              "      <td>2</td>\n",
              "      <td>1</td>\n",
              "      <td>04/01/2012</td>\n",
              "      <td>...</td>\n",
              "      <td>No physical crossing within 50 meters</td>\n",
              "      <td>Darkness: Street lights present and lit</td>\n",
              "      <td>Fine without high winds</td>\n",
              "      <td>Dry</td>\n",
              "      <td>None</td>\n",
              "      <td>None</td>\n",
              "      <td>1</td>\n",
              "      <td>Yes</td>\n",
              "      <td>E01004760</td>\n",
              "      <td>2012</td>\n",
              "    </tr>\n",
              "    <tr>\n",
              "      <th>2</th>\n",
              "      <td>201201BS70003</td>\n",
              "      <td>525860</td>\n",
              "      <td>178080</td>\n",
              "      <td>-0.188636</td>\n",
              "      <td>51.487618</td>\n",
              "      <td>1</td>\n",
              "      <td>3</td>\n",
              "      <td>2</td>\n",
              "      <td>1</td>\n",
              "      <td>10/01/2012</td>\n",
              "      <td>...</td>\n",
              "      <td>non-junction pedestrian crossing</td>\n",
              "      <td>Daylight: Street light present</td>\n",
              "      <td>Fine without high winds</td>\n",
              "      <td>Dry</td>\n",
              "      <td>None</td>\n",
              "      <td>None</td>\n",
              "      <td>1</td>\n",
              "      <td>Yes</td>\n",
              "      <td>E01002893</td>\n",
              "      <td>2012</td>\n",
              "    </tr>\n",
              "    <tr>\n",
              "      <th>3</th>\n",
              "      <td>201201BS70004</td>\n",
              "      <td>524980</td>\n",
              "      <td>181030</td>\n",
              "      <td>-0.200259</td>\n",
              "      <td>51.514325</td>\n",
              "      <td>1</td>\n",
              "      <td>3</td>\n",
              "      <td>1</td>\n",
              "      <td>1</td>\n",
              "      <td>18/01/2012</td>\n",
              "      <td>...</td>\n",
              "      <td>No physical crossing within 50 meters</td>\n",
              "      <td>Daylight: Street light present</td>\n",
              "      <td>Fine without high winds</td>\n",
              "      <td>Dry</td>\n",
              "      <td>None</td>\n",
              "      <td>None</td>\n",
              "      <td>1</td>\n",
              "      <td>Yes</td>\n",
              "      <td>E01002886</td>\n",
              "      <td>2012</td>\n",
              "    </tr>\n",
              "    <tr>\n",
              "      <th>4</th>\n",
              "      <td>201201BS70005</td>\n",
              "      <td>526170</td>\n",
              "      <td>179200</td>\n",
              "      <td>-0.183773</td>\n",
              "      <td>51.497614</td>\n",
              "      <td>1</td>\n",
              "      <td>3</td>\n",
              "      <td>1</td>\n",
              "      <td>1</td>\n",
              "      <td>17/01/2012</td>\n",
              "      <td>...</td>\n",
              "      <td>No physical crossing within 50 meters</td>\n",
              "      <td>Darkness: Street lights present and lit</td>\n",
              "      <td>Fine without high winds</td>\n",
              "      <td>Dry</td>\n",
              "      <td>None</td>\n",
              "      <td>None</td>\n",
              "      <td>1</td>\n",
              "      <td>Yes</td>\n",
              "      <td>E01002890</td>\n",
              "      <td>2012</td>\n",
              "    </tr>\n",
              "  </tbody>\n",
              "</table>\n",
              "<p>5 rows × 33 columns</p>\n",
              "</div>\n",
              "    <div class=\"colab-df-buttons\">\n",
              "\n",
              "  <div class=\"colab-df-container\">\n",
              "    <button class=\"colab-df-convert\" onclick=\"convertToInteractive('df-5fe79f00-0a54-4c26-92fe-492fb9aa5127')\"\n",
              "            title=\"Convert this dataframe to an interactive table.\"\n",
              "            style=\"display:none;\">\n",
              "\n",
              "  <svg xmlns=\"http://www.w3.org/2000/svg\" height=\"24px\" viewBox=\"0 -960 960 960\">\n",
              "    <path d=\"M120-120v-720h720v720H120Zm60-500h600v-160H180v160Zm220 220h160v-160H400v160Zm0 220h160v-160H400v160ZM180-400h160v-160H180v160Zm440 0h160v-160H620v160ZM180-180h160v-160H180v160Zm440 0h160v-160H620v160Z\"/>\n",
              "  </svg>\n",
              "    </button>\n",
              "\n",
              "  <style>\n",
              "    .colab-df-container {\n",
              "      display:flex;\n",
              "      gap: 12px;\n",
              "    }\n",
              "\n",
              "    .colab-df-convert {\n",
              "      background-color: #E8F0FE;\n",
              "      border: none;\n",
              "      border-radius: 50%;\n",
              "      cursor: pointer;\n",
              "      display: none;\n",
              "      fill: #1967D2;\n",
              "      height: 32px;\n",
              "      padding: 0 0 0 0;\n",
              "      width: 32px;\n",
              "    }\n",
              "\n",
              "    .colab-df-convert:hover {\n",
              "      background-color: #E2EBFA;\n",
              "      box-shadow: 0px 1px 2px rgba(60, 64, 67, 0.3), 0px 1px 3px 1px rgba(60, 64, 67, 0.15);\n",
              "      fill: #174EA6;\n",
              "    }\n",
              "\n",
              "    .colab-df-buttons div {\n",
              "      margin-bottom: 4px;\n",
              "    }\n",
              "\n",
              "    [theme=dark] .colab-df-convert {\n",
              "      background-color: #3B4455;\n",
              "      fill: #D2E3FC;\n",
              "    }\n",
              "\n",
              "    [theme=dark] .colab-df-convert:hover {\n",
              "      background-color: #434B5C;\n",
              "      box-shadow: 0px 1px 3px 1px rgba(0, 0, 0, 0.15);\n",
              "      filter: drop-shadow(0px 1px 2px rgba(0, 0, 0, 0.3));\n",
              "      fill: #FFFFFF;\n",
              "    }\n",
              "  </style>\n",
              "\n",
              "    <script>\n",
              "      const buttonEl =\n",
              "        document.querySelector('#df-5fe79f00-0a54-4c26-92fe-492fb9aa5127 button.colab-df-convert');\n",
              "      buttonEl.style.display =\n",
              "        google.colab.kernel.accessAllowed ? 'block' : 'none';\n",
              "\n",
              "      async function convertToInteractive(key) {\n",
              "        const element = document.querySelector('#df-5fe79f00-0a54-4c26-92fe-492fb9aa5127');\n",
              "        const dataTable =\n",
              "          await google.colab.kernel.invokeFunction('convertToInteractive',\n",
              "                                                    [key], {});\n",
              "        if (!dataTable) return;\n",
              "\n",
              "        const docLinkHtml = 'Like what you see? Visit the ' +\n",
              "          '<a target=\"_blank\" href=https://colab.research.google.com/notebooks/data_table.ipynb>data table notebook</a>'\n",
              "          + ' to learn more about interactive tables.';\n",
              "        element.innerHTML = '';\n",
              "        dataTable['output_type'] = 'display_data';\n",
              "        await google.colab.output.renderOutput(dataTable, element);\n",
              "        const docLink = document.createElement('div');\n",
              "        docLink.innerHTML = docLinkHtml;\n",
              "        element.appendChild(docLink);\n",
              "      }\n",
              "    </script>\n",
              "  </div>\n",
              "\n",
              "\n",
              "<div id=\"df-d58c48b6-3cc7-4a87-9ad3-1888aae75eb9\">\n",
              "  <button class=\"colab-df-quickchart\" onclick=\"quickchart('df-d58c48b6-3cc7-4a87-9ad3-1888aae75eb9')\"\n",
              "            title=\"Suggest charts\"\n",
              "            style=\"display:none;\">\n",
              "\n",
              "<svg xmlns=\"http://www.w3.org/2000/svg\" height=\"24px\"viewBox=\"0 0 24 24\"\n",
              "     width=\"24px\">\n",
              "    <g>\n",
              "        <path d=\"M19 3H5c-1.1 0-2 .9-2 2v14c0 1.1.9 2 2 2h14c1.1 0 2-.9 2-2V5c0-1.1-.9-2-2-2zM9 17H7v-7h2v7zm4 0h-2V7h2v10zm4 0h-2v-4h2v4z\"/>\n",
              "    </g>\n",
              "</svg>\n",
              "  </button>\n",
              "\n",
              "<style>\n",
              "  .colab-df-quickchart {\n",
              "      --bg-color: #E8F0FE;\n",
              "      --fill-color: #1967D2;\n",
              "      --hover-bg-color: #E2EBFA;\n",
              "      --hover-fill-color: #174EA6;\n",
              "      --disabled-fill-color: #AAA;\n",
              "      --disabled-bg-color: #DDD;\n",
              "  }\n",
              "\n",
              "  [theme=dark] .colab-df-quickchart {\n",
              "      --bg-color: #3B4455;\n",
              "      --fill-color: #D2E3FC;\n",
              "      --hover-bg-color: #434B5C;\n",
              "      --hover-fill-color: #FFFFFF;\n",
              "      --disabled-bg-color: #3B4455;\n",
              "      --disabled-fill-color: #666;\n",
              "  }\n",
              "\n",
              "  .colab-df-quickchart {\n",
              "    background-color: var(--bg-color);\n",
              "    border: none;\n",
              "    border-radius: 50%;\n",
              "    cursor: pointer;\n",
              "    display: none;\n",
              "    fill: var(--fill-color);\n",
              "    height: 32px;\n",
              "    padding: 0;\n",
              "    width: 32px;\n",
              "  }\n",
              "\n",
              "  .colab-df-quickchart:hover {\n",
              "    background-color: var(--hover-bg-color);\n",
              "    box-shadow: 0 1px 2px rgba(60, 64, 67, 0.3), 0 1px 3px 1px rgba(60, 64, 67, 0.15);\n",
              "    fill: var(--button-hover-fill-color);\n",
              "  }\n",
              "\n",
              "  .colab-df-quickchart-complete:disabled,\n",
              "  .colab-df-quickchart-complete:disabled:hover {\n",
              "    background-color: var(--disabled-bg-color);\n",
              "    fill: var(--disabled-fill-color);\n",
              "    box-shadow: none;\n",
              "  }\n",
              "\n",
              "  .colab-df-spinner {\n",
              "    border: 2px solid var(--fill-color);\n",
              "    border-color: transparent;\n",
              "    border-bottom-color: var(--fill-color);\n",
              "    animation:\n",
              "      spin 1s steps(1) infinite;\n",
              "  }\n",
              "\n",
              "  @keyframes spin {\n",
              "    0% {\n",
              "      border-color: transparent;\n",
              "      border-bottom-color: var(--fill-color);\n",
              "      border-left-color: var(--fill-color);\n",
              "    }\n",
              "    20% {\n",
              "      border-color: transparent;\n",
              "      border-left-color: var(--fill-color);\n",
              "      border-top-color: var(--fill-color);\n",
              "    }\n",
              "    30% {\n",
              "      border-color: transparent;\n",
              "      border-left-color: var(--fill-color);\n",
              "      border-top-color: var(--fill-color);\n",
              "      border-right-color: var(--fill-color);\n",
              "    }\n",
              "    40% {\n",
              "      border-color: transparent;\n",
              "      border-right-color: var(--fill-color);\n",
              "      border-top-color: var(--fill-color);\n",
              "    }\n",
              "    60% {\n",
              "      border-color: transparent;\n",
              "      border-right-color: var(--fill-color);\n",
              "    }\n",
              "    80% {\n",
              "      border-color: transparent;\n",
              "      border-right-color: var(--fill-color);\n",
              "      border-bottom-color: var(--fill-color);\n",
              "    }\n",
              "    90% {\n",
              "      border-color: transparent;\n",
              "      border-bottom-color: var(--fill-color);\n",
              "    }\n",
              "  }\n",
              "</style>\n",
              "\n",
              "  <script>\n",
              "    async function quickchart(key) {\n",
              "      const quickchartButtonEl =\n",
              "        document.querySelector('#' + key + ' button');\n",
              "      quickchartButtonEl.disabled = true;  // To prevent multiple clicks.\n",
              "      quickchartButtonEl.classList.add('colab-df-spinner');\n",
              "      try {\n",
              "        const charts = await google.colab.kernel.invokeFunction(\n",
              "            'suggestCharts', [key], {});\n",
              "      } catch (error) {\n",
              "        console.error('Error during call to suggestCharts:', error);\n",
              "      }\n",
              "      quickchartButtonEl.classList.remove('colab-df-spinner');\n",
              "      quickchartButtonEl.classList.add('colab-df-quickchart-complete');\n",
              "    }\n",
              "    (() => {\n",
              "      let quickchartButtonEl =\n",
              "        document.querySelector('#df-d58c48b6-3cc7-4a87-9ad3-1888aae75eb9 button');\n",
              "      quickchartButtonEl.style.display =\n",
              "        google.colab.kernel.accessAllowed ? 'block' : 'none';\n",
              "    })();\n",
              "  </script>\n",
              "</div>\n",
              "    </div>\n",
              "  </div>\n"
            ]
          },
          "metadata": {},
          "execution_count": 17
        }
      ]
    },
    {
      "cell_type": "code",
      "source": [
        "df.shape"
      ],
      "metadata": {
        "colab": {
          "base_uri": "https://localhost:8080/"
        },
        "id": "B7TKp7K2i3jg",
        "outputId": "1b700a7a-82e4-4879-cfbb-42583746ecba"
      },
      "execution_count": 18,
      "outputs": [
        {
          "output_type": "execute_result",
          "data": {
            "text/plain": [
              "(464697, 33)"
            ]
          },
          "metadata": {},
          "execution_count": 18
        }
      ]
    },
    {
      "cell_type": "code",
      "source": [
        "# Display basic information about the dataset\n",
        "print(\"Dataset Info:\")\n",
        "print(df.info())"
      ],
      "metadata": {
        "colab": {
          "base_uri": "https://localhost:8080/"
        },
        "id": "aJrzHq_thDOE",
        "outputId": "170dda28-bf66-430c-f7c9-568b6c03f147"
      },
      "execution_count": 19,
      "outputs": [
        {
          "output_type": "stream",
          "name": "stdout",
          "text": [
            "Dataset Info:\n",
            "<class 'pandas.core.frame.DataFrame'>\n",
            "RangeIndex: 464697 entries, 0 to 464696\n",
            "Data columns (total 33 columns):\n",
            " #   Column                                       Non-Null Count   Dtype  \n",
            "---  ------                                       --------------   -----  \n",
            " 0   Accident_Index                               464697 non-null  object \n",
            " 1   Location_Easting_OSGR                        464697 non-null  int64  \n",
            " 2   Location_Northing_OSGR                       464697 non-null  int64  \n",
            " 3   Longitude                                    464697 non-null  float64\n",
            " 4   Latitude                                     464697 non-null  float64\n",
            " 5   Police_Force                                 464697 non-null  int64  \n",
            " 6   Accident_Severity                            464697 non-null  int64  \n",
            " 7   Number_of_Vehicles                           464697 non-null  int64  \n",
            " 8   Number_of_Casualties                         464697 non-null  int64  \n",
            " 9   Date                                         464697 non-null  object \n",
            " 10  Day_of_Week                                  464697 non-null  int64  \n",
            " 11  Time                                         464684 non-null  object \n",
            " 12  Local_Authority_(District)                   464697 non-null  int64  \n",
            " 13  Local_Authority_(Highway)                    464697 non-null  object \n",
            " 14  1st_Road_Class                               464697 non-null  int64  \n",
            " 15  1st_Road_Number                              464697 non-null  int64  \n",
            " 16  Road_Type                                    464697 non-null  object \n",
            " 17  Speed_limit                                  464697 non-null  int64  \n",
            " 18  Junction_Detail                              0 non-null       float64\n",
            " 19  Junction_Control                             286087 non-null  object \n",
            " 20  2nd_Road_Class                               464697 non-null  int64  \n",
            " 21  2nd_Road_Number                              464697 non-null  int64  \n",
            " 22  Pedestrian_Crossing-Human_Control            464697 non-null  object \n",
            " 23  Pedestrian_Crossing-Physical_Facilities      464697 non-null  object \n",
            " 24  Light_Conditions                             464697 non-null  object \n",
            " 25  Weather_Conditions                           464697 non-null  object \n",
            " 26  Road_Surface_Conditions                      463942 non-null  object \n",
            " 27  Special_Conditions_at_Site                   464695 non-null  object \n",
            " 28  Carriageway_Hazards                          464694 non-null  object \n",
            " 29  Urban_or_Rural_Area                          464697 non-null  int64  \n",
            " 30  Did_Police_Officer_Attend_Scene_of_Accident  464695 non-null  object \n",
            " 31  LSOA_of_Accident_Location                    435979 non-null  object \n",
            " 32  Year                                         464697 non-null  int64  \n",
            "dtypes: float64(3), int64(15), object(15)\n",
            "memory usage: 117.0+ MB\n",
            "None\n"
          ]
        }
      ]
    },
    {
      "cell_type": "markdown",
      "source": [
        "Based on the provided dataset information, it appears that we don't have missing values in most columns. However, there are a few columns with missing values:\n",
        "\n",
        "    Time: There are missing values in the \"Time\" column.\n",
        "\n",
        "    Junction_Detail: All values in the \"Junction_Detail\" column are missing (0 non-null entries).\n",
        "\n",
        "    Junction_Control: There are missing values in the \"Junction_Control\" column.\n",
        "\n",
        "    Road_Surface_Conditions: There are missing values in the \"Road_Surface_Conditions\" column.\n",
        "\n",
        "    Special_Conditions_at_Site: There is one missing value in the \"Special_Conditions_at_Site\" column.\n",
        "\n",
        "    Carriageway_Hazards: There is one missing value in the \"Carriageway_Hazards\" column.\n",
        "\n",
        "    Did_Police_Officer_Attend_Scene_of_Accident: There are two missing values in the \"Did_Police_Officer_Attend_Scene_of_Accident\" column.\n",
        "\n",
        "    LSOA_of_Accident_Location: There are missing values in the \"LSOA_of_Accident_Location\" column.\n",
        "\n",
        "It's important to handle missing values in the columns where they exist. The approach to handling missing values depends on the nature of the data and the specific requirements of your analysis."
      ],
      "metadata": {
        "id": "unBqJJlKjYjU"
      }
    },
    {
      "cell_type": "markdown",
      "source": [
        "Handling missing values depends on the nature of the data and the context of analysis. Here are some common strategies for dealing with missing values:\n",
        "\n",
        "* Dropping Rows:\n",
        "  If the number of rows with missing values is small and doesn't significantly impact dataset, may choose to drop those rows.\n",
        "\n",
        "* Imputation:\n",
        "  Replace missing values with a statistical measure like the mean, median, or mode of the column.\n",
        "\n",
        "* Fill Forward or Backward:\n",
        "  Fill missing values with the previous or next non-missing value in the column.\n",
        "\n",
        "* Replace with a Specific Value:\n",
        "  Replace missing values with a specific value that makes sense in the context of your data.\n",
        "\n",
        "* Advanced Imputation:\n",
        "  Use more advanced imputation techniques such as k-Nearest Neighbors (KNN) imputation, predictive modeling, or machine learning-based imputation methods.\n",
        "        Example: from sklearn.impute import KNNImputer"
      ],
      "metadata": {
        "id": "zRdC4IxyjxCR"
      }
    },
    {
      "cell_type": "code",
      "source": [
        "# Check the distribution of missing values in each column\n",
        "missing_values = df.isnull().sum()\n",
        "print(missing_values)"
      ],
      "metadata": {
        "colab": {
          "base_uri": "https://localhost:8080/"
        },
        "id": "1HldCD-FjXzD",
        "outputId": "a5602587-7025-42a8-ea72-a29e0423f60e"
      },
      "execution_count": 20,
      "outputs": [
        {
          "output_type": "stream",
          "name": "stdout",
          "text": [
            "Accident_Index                                      0\n",
            "Location_Easting_OSGR                               0\n",
            "Location_Northing_OSGR                              0\n",
            "Longitude                                           0\n",
            "Latitude                                            0\n",
            "Police_Force                                        0\n",
            "Accident_Severity                                   0\n",
            "Number_of_Vehicles                                  0\n",
            "Number_of_Casualties                                0\n",
            "Date                                                0\n",
            "Day_of_Week                                         0\n",
            "Time                                               13\n",
            "Local_Authority_(District)                          0\n",
            "Local_Authority_(Highway)                           0\n",
            "1st_Road_Class                                      0\n",
            "1st_Road_Number                                     0\n",
            "Road_Type                                           0\n",
            "Speed_limit                                         0\n",
            "Junction_Detail                                464697\n",
            "Junction_Control                               178610\n",
            "2nd_Road_Class                                      0\n",
            "2nd_Road_Number                                     0\n",
            "Pedestrian_Crossing-Human_Control                   0\n",
            "Pedestrian_Crossing-Physical_Facilities             0\n",
            "Light_Conditions                                    0\n",
            "Weather_Conditions                                  0\n",
            "Road_Surface_Conditions                           755\n",
            "Special_Conditions_at_Site                          2\n",
            "Carriageway_Hazards                                 3\n",
            "Urban_or_Rural_Area                                 0\n",
            "Did_Police_Officer_Attend_Scene_of_Accident         2\n",
            "LSOA_of_Accident_Location                       28718\n",
            "Year                                                0\n",
            "dtype: int64\n"
          ]
        }
      ]
    },
    {
      "cell_type": "code",
      "source": [
        "# Drop rows with missing values in specific columns\n",
        "columns_to_check = ['Time', 'Junction_Control', 'Road_Surface_Conditions', 'LSOA_of_Accident_Location']\n",
        "df.dropna(subset=columns_to_check, inplace=True)"
      ],
      "metadata": {
        "id": "pHmaUdw5hDRY"
      },
      "execution_count": 21,
      "outputs": []
    },
    {
      "cell_type": "code",
      "source": [
        "df.shape"
      ],
      "metadata": {
        "colab": {
          "base_uri": "https://localhost:8080/"
        },
        "id": "9SW4TpOTjC-b",
        "outputId": "78e175a7-9bb5-45f6-b1d7-89bd085a2874"
      },
      "execution_count": 22,
      "outputs": [
        {
          "output_type": "execute_result",
          "data": {
            "text/plain": [
              "(270752, 33)"
            ]
          },
          "metadata": {},
          "execution_count": 22
        }
      ]
    },
    {
      "cell_type": "code",
      "source": [
        "# Check for duplicates\n",
        "duplicate_rows = df[df.duplicated()]"
      ],
      "metadata": {
        "id": "uk1nkMfThJBU"
      },
      "execution_count": 24,
      "outputs": []
    },
    {
      "cell_type": "code",
      "source": [
        "# Display duplicate rows, if any\n",
        "print(\"Duplicate Rows:\")\n",
        "print(duplicate_rows)"
      ],
      "metadata": {
        "colab": {
          "base_uri": "https://localhost:8080/"
        },
        "id": "33lZQEU-lzwE",
        "outputId": "5034e521-7f7f-469e-fd94-2f94606ad8df"
      },
      "execution_count": 25,
      "outputs": [
        {
          "output_type": "stream",
          "name": "stdout",
          "text": [
            "Duplicate Rows:\n",
            "      Accident_Index  Location_Easting_OSGR  Location_Northing_OSGR  \\\n",
            "47731  201201RG40561                 541260                  177590   \n",
            "47732  201201RG40562                 545290                  178070   \n",
            "47734  201201RG40564                 543350                  179220   \n",
            "47735  201201RG40565                 540630                  177520   \n",
            "47736  201201RG40566                 541110                  177100   \n",
            "...              ...                    ...                     ...   \n",
            "81870       2.01E+12                 438010                  413160   \n",
            "81871       2.01E+12                 433870                  419520   \n",
            "81872       2.01E+12                 416600                  433720   \n",
            "81873       2.01E+12                 419780                  424730   \n",
            "81874       2.01E+12                 430870                  420080   \n",
            "\n",
            "       Longitude   Latitude  Police_Force  Accident_Severity  \\\n",
            "47731   0.032833  51.479580             1                  3   \n",
            "47732   0.091024  51.482873             1                  3   \n",
            "47734   0.063571  51.493702             1                  3   \n",
            "47735   0.023739  51.479108             1                  3   \n",
            "47736   0.030479  51.475215             1                  3   \n",
            "...          ...        ...           ...                ...   \n",
            "81870  -1.426921  53.613610            13                  2   \n",
            "81871  -1.488807  53.671057            13                  3   \n",
            "81872  -1.749452  53.799519            13                  3   \n",
            "81873  -1.701745  53.718606            13                  3   \n",
            "81874  -1.534159  53.676275            13                  3   \n",
            "\n",
            "       Number_of_Vehicles  Number_of_Casualties        Date  ...  \\\n",
            "47731                   2                     2  20/09/2012  ...   \n",
            "47732                   2                     2  01/10/2012  ...   \n",
            "47734                   3                     2  27/09/2012  ...   \n",
            "47735                   2                     1  26/09/2012  ...   \n",
            "47736                   2                     1  27/09/2012  ...   \n",
            "...                   ...                   ...         ...  ...   \n",
            "81870                   2                     1  28/04/2012  ...   \n",
            "81871                   2                     1  28/04/2012  ...   \n",
            "81872                   2                     2  28/04/2012  ...   \n",
            "81873                   2                     2  28/04/2012  ...   \n",
            "81874                   2                     1  27/04/2012  ...   \n",
            "\n",
            "       Pedestrian_Crossing-Physical_Facilities  \\\n",
            "47731    No physical crossing within 50 meters   \n",
            "47732    No physical crossing within 50 meters   \n",
            "47734         non-junction pedestrian crossing   \n",
            "47735    No physical crossing within 50 meters   \n",
            "47736    No physical crossing within 50 meters   \n",
            "...                                        ...   \n",
            "81870    No physical crossing within 50 meters   \n",
            "81871    No physical crossing within 50 meters   \n",
            "81872    No physical crossing within 50 meters   \n",
            "81873    No physical crossing within 50 meters   \n",
            "81874    No physical crossing within 50 meters   \n",
            "\n",
            "                        Light_Conditions          Weather_Conditions  \\\n",
            "47731     Daylight: Street light present     Fine without high winds   \n",
            "47732     Daylight: Street light present     Fine without high winds   \n",
            "47734     Daylight: Street light present  Raining without high winds   \n",
            "47735     Daylight: Street light present     Fine without high winds   \n",
            "47736     Daylight: Street light present     Fine without high winds   \n",
            "...                                  ...                         ...   \n",
            "81870     Daylight: Street light present     Fine without high winds   \n",
            "81871     Daylight: Street light present  Raining without high winds   \n",
            "81872     Daylight: Street light present     Fine without high winds   \n",
            "81873  Darkness: Street lighting unknown     Fine without high winds   \n",
            "81874     Daylight: Street light present     Fine without high winds   \n",
            "\n",
            "      Road_Surface_Conditions  Special_Conditions_at_Site  \\\n",
            "47731                     Dry                        None   \n",
            "47732                Wet/Damp                        None   \n",
            "47734                Wet/Damp                        None   \n",
            "47735                     Dry                        None   \n",
            "47736                     Dry                        None   \n",
            "...                       ...                         ...   \n",
            "81870                Wet/Damp                        None   \n",
            "81871                Wet/Damp                        None   \n",
            "81872                Wet/Damp                        None   \n",
            "81873                     Dry                        None   \n",
            "81874                Wet/Damp                        None   \n",
            "\n",
            "       Carriageway_Hazards Urban_or_Rural_Area  \\\n",
            "47731                 None                   1   \n",
            "47732                 None                   1   \n",
            "47734                 None                   1   \n",
            "47735                 None                   1   \n",
            "47736                 None                   1   \n",
            "...                    ...                 ...   \n",
            "81870                 None                   2   \n",
            "81871                 None                   1   \n",
            "81872                 None                   1   \n",
            "81873                 None                   1   \n",
            "81874                 None                   1   \n",
            "\n",
            "       Did_Police_Officer_Attend_Scene_of_Accident  LSOA_of_Accident_Location  \\\n",
            "47731                                          Yes                  E01001595   \n",
            "47732                                          Yes                  E01001635   \n",
            "47734                                          Yes                  E01001707   \n",
            "47735                                          Yes                  E01001593   \n",
            "47736                                          Yes                  E01001652   \n",
            "...                                            ...                        ...   \n",
            "81870                                          Yes                  E01011786   \n",
            "81871                                          Yes                  E01011898   \n",
            "81872                                          Yes                  E01010823   \n",
            "81873                                          Yes                  E01011063   \n",
            "81874                                           No                  E01011899   \n",
            "\n",
            "       Year  \n",
            "47731  2012  \n",
            "47732  2012  \n",
            "47734  2012  \n",
            "47735  2012  \n",
            "47736  2012  \n",
            "...     ...  \n",
            "81870  2012  \n",
            "81871  2012  \n",
            "81872  2012  \n",
            "81873  2012  \n",
            "81874  2012  \n",
            "\n",
            "[23133 rows x 33 columns]\n"
          ]
        }
      ]
    },
    {
      "cell_type": "code",
      "source": [
        "# Count the number of duplicates\n",
        "num_duplicates = df.duplicated().sum()\n",
        "print(f\"Number of Duplicates: {num_duplicates}\")"
      ],
      "metadata": {
        "colab": {
          "base_uri": "https://localhost:8080/"
        },
        "id": "3eD5E9VOl8RY",
        "outputId": "1dc25598-6e87-42d1-cde8-dc31d0ab6fdf"
      },
      "execution_count": 26,
      "outputs": [
        {
          "output_type": "stream",
          "name": "stdout",
          "text": [
            "Number of Duplicates: 23133\n"
          ]
        }
      ]
    },
    {
      "cell_type": "code",
      "source": [
        "# Drop duplicate rows\n",
        "df.drop_duplicates(inplace=True)\n",
        "\n",
        "# Display the updated DataFrame\n",
        "print(\"Updated DataFrame after dropping duplicates:\")\n",
        "print(df)"
      ],
      "metadata": {
        "colab": {
          "base_uri": "https://localhost:8080/"
        },
        "id": "yRawkYtfmMnO",
        "outputId": "d80b04f6-c758-433b-f679-969171d2e7e4"
      },
      "execution_count": 27,
      "outputs": [
        {
          "output_type": "stream",
          "name": "stdout",
          "text": [
            "Updated DataFrame after dropping duplicates:\n",
            "       Accident_Index  Location_Easting_OSGR  Location_Northing_OSGR  \\\n",
            "0       201201BS70001                 527200                  178760   \n",
            "1       201201BS70002                 524930                  181430   \n",
            "2       201201BS70003                 525860                  178080   \n",
            "3       201201BS70004                 524980                  181030   \n",
            "4       201201BS70005                 526170                  179200   \n",
            "...               ...                    ...                     ...   \n",
            "455895  201463DP39314                 322520                  307540   \n",
            "455896  201463DP39414                 282430                  212670   \n",
            "455897  201463DP39514                 276800                  210180   \n",
            "455898  201463DP39614                 306110                  262480   \n",
            "455906  201463DP40414                 303140                  228320   \n",
            "\n",
            "        Longitude   Latitude  Police_Force  Accident_Severity  \\\n",
            "0       -0.169101  51.493429             1                  3   \n",
            "1       -0.200838  51.517931             1                  3   \n",
            "2       -0.188636  51.487618             1                  3   \n",
            "3       -0.200259  51.514325             1                  3   \n",
            "4       -0.183773  51.497614             1                  3   \n",
            "...           ...        ...           ...                ...   \n",
            "455895  -3.146994  52.659999            63                  2   \n",
            "455896  -3.706470  51.800237            63                  3   \n",
            "455897  -3.787192  51.776647            63                  2   \n",
            "455898  -3.376854  52.252424            63                  3   \n",
            "455906  -3.410628  51.944879            63                  3   \n",
            "\n",
            "        Number_of_Vehicles  Number_of_Casualties        Date  ...  \\\n",
            "0                        2                     1  19/01/2012  ...   \n",
            "1                        2                     1  04/01/2012  ...   \n",
            "2                        2                     1  10/01/2012  ...   \n",
            "3                        1                     1  18/01/2012  ...   \n",
            "4                        1                     1  17/01/2012  ...   \n",
            "...                    ...                   ...         ...  ...   \n",
            "455895                   1                     2  05/12/2014  ...   \n",
            "455896                   2                     1  20/12/2014  ...   \n",
            "455897                   2                     1  27/12/2014  ...   \n",
            "455898                   2                     1  11/11/2014  ...   \n",
            "455906                   2                     1  21/12/2014  ...   \n",
            "\n",
            "            Pedestrian_Crossing-Physical_Facilities  \\\n",
            "0       Pedestrian phase at traffic signal junction   \n",
            "1             No physical crossing within 50 meters   \n",
            "2                  non-junction pedestrian crossing   \n",
            "3             No physical crossing within 50 meters   \n",
            "4             No physical crossing within 50 meters   \n",
            "...                                             ...   \n",
            "455895        No physical crossing within 50 meters   \n",
            "455896        No physical crossing within 50 meters   \n",
            "455897        No physical crossing within 50 meters   \n",
            "455898        No physical crossing within 50 meters   \n",
            "455906        No physical crossing within 50 meters   \n",
            "\n",
            "                               Light_Conditions          Weather_Conditions  \\\n",
            "0       Darkness: Street lights present and lit     Fine without high winds   \n",
            "1       Darkness: Street lights present and lit     Fine without high winds   \n",
            "2                Daylight: Street light present     Fine without high winds   \n",
            "3                Daylight: Street light present     Fine without high winds   \n",
            "4       Darkness: Street lights present and lit     Fine without high winds   \n",
            "...                                         ...                         ...   \n",
            "455895           Daylight: Street light present     Fine without high winds   \n",
            "455896  Darkness: Street lights present and lit     Fine without high winds   \n",
            "455897  Darkness: Street lights present and lit  Raining without high winds   \n",
            "455898           Daylight: Street light present  Raining without high winds   \n",
            "455906  Darkness: Street lights present and lit                     Unknown   \n",
            "\n",
            "       Road_Surface_Conditions  Special_Conditions_at_Site  \\\n",
            "0                          Dry                        None   \n",
            "1                          Dry                        None   \n",
            "2                          Dry                        None   \n",
            "3                          Dry                        None   \n",
            "4                          Dry                        None   \n",
            "...                        ...                         ...   \n",
            "455895                Wet/Damp                        None   \n",
            "455896                     Dry                        None   \n",
            "455897                Wet/Damp                        None   \n",
            "455898                Wet/Damp                        None   \n",
            "455906                Wet/Damp                        None   \n",
            "\n",
            "        Carriageway_Hazards Urban_or_Rural_Area  \\\n",
            "0                      None                   1   \n",
            "1                      None                   1   \n",
            "2                      None                   1   \n",
            "3                      None                   1   \n",
            "4                      None                   1   \n",
            "...                     ...                 ...   \n",
            "455895                 None                   2   \n",
            "455896                 None                   2   \n",
            "455897                 None                   1   \n",
            "455898                 None                   2   \n",
            "455906                 None                   2   \n",
            "\n",
            "        Did_Police_Officer_Attend_Scene_of_Accident  \\\n",
            "0                                               Yes   \n",
            "1                                               Yes   \n",
            "2                                               Yes   \n",
            "3                                               Yes   \n",
            "4                                               Yes   \n",
            "...                                             ...   \n",
            "455895                                          Yes   \n",
            "455896                                          Yes   \n",
            "455897                                          Yes   \n",
            "455898                                           No   \n",
            "455906                                           No   \n",
            "\n",
            "        LSOA_of_Accident_Location  Year  \n",
            "0                       E01002821  2012  \n",
            "1                       E01004760  2012  \n",
            "2                       E01002893  2012  \n",
            "3                       E01002886  2012  \n",
            "4                       E01002890  2012  \n",
            "...                           ...   ...  \n",
            "455895                  W01000501  2014  \n",
            "455896                  W01000496  2014  \n",
            "455897                  W01001899  2014  \n",
            "455898                  W01000455  2014  \n",
            "455906                  W01000489  2014  \n",
            "\n",
            "[247619 rows x 33 columns]\n"
          ]
        }
      ]
    },
    {
      "cell_type": "code",
      "source": [
        "df.shape"
      ],
      "metadata": {
        "colab": {
          "base_uri": "https://localhost:8080/"
        },
        "id": "UIphUi8XmRtw",
        "outputId": "6c247c1c-cfd2-4299-cc3b-e01b8653a98a"
      },
      "execution_count": 28,
      "outputs": [
        {
          "output_type": "execute_result",
          "data": {
            "text/plain": [
              "(247619, 33)"
            ]
          },
          "metadata": {},
          "execution_count": 28
        }
      ]
    },
    {
      "cell_type": "markdown",
      "source": [
        "Feature scaling is generally needed when the features in dataset have different scales or units. The two common scaling techniques are Min-Max scaling and standardization (Z-score normalization)."
      ],
      "metadata": {
        "id": "IVl9q2IsrhXc"
      }
    },
    {
      "cell_type": "code",
      "source": [
        "# Check the summary statistics of your numeric columns\n",
        "print(df.describe())"
      ],
      "metadata": {
        "colab": {
          "base_uri": "https://localhost:8080/"
        },
        "id": "1pMJMD9Wq_rG",
        "outputId": "9b175bd3-a457-4758-d354-6fbb2514cfda"
      },
      "execution_count": 29,
      "outputs": [
        {
          "output_type": "stream",
          "name": "stdout",
          "text": [
            "       Location_Easting_OSGR  Location_Northing_OSGR      Longitude  \\\n",
            "count          247619.000000           247619.000000  247619.000000   \n",
            "mean           459424.231279           264161.902087      -1.139791   \n",
            "std             86070.213375           122109.460196       1.246469   \n",
            "min             90614.000000            10566.000000      -6.311496   \n",
            "25%            399086.500000           175690.000000      -2.014860   \n",
            "50%            460875.000000           212540.000000      -1.099065   \n",
            "75%            529250.000000           371105.000000      -0.137562   \n",
            "max            655370.000000           654662.000000       1.759382   \n",
            "\n",
            "            Latitude   Police_Force  Accident_Severity  Number_of_Vehicles  \\\n",
            "count  247619.000000  247619.000000      247619.000000       247619.000000   \n",
            "mean       52.265717      23.859865           2.859966            1.874040   \n",
            "std         1.102279      19.674645           0.365864            0.591789   \n",
            "min        49.915001       1.000000           1.000000            1.000000   \n",
            "25%        51.467073       4.000000           3.000000            2.000000   \n",
            "50%        51.796211      20.000000           3.000000            2.000000   \n",
            "75%        53.230387      43.000000           3.000000            2.000000   \n",
            "max        55.785309      63.000000           3.000000           11.000000   \n",
            "\n",
            "       Number_of_Casualties    Day_of_Week  Local_Authority_(District)  \\\n",
            "count         247619.000000  247619.000000               247619.000000   \n",
            "mean               1.314624       4.122220                  285.410998   \n",
            "std                0.762428       1.893182                  220.475051   \n",
            "min                1.000000       1.000000                    1.000000   \n",
            "25%                1.000000       3.000000                   74.000000   \n",
            "50%                1.000000       4.000000                  276.000000   \n",
            "75%                1.000000       6.000000                  479.000000   \n",
            "max               87.000000       7.000000                  753.000000   \n",
            "\n",
            "       1st_Road_Class  1st_Road_Number    Speed_limit  Junction_Detail  \\\n",
            "count   247619.000000    247619.000000  247619.000000              0.0   \n",
            "mean         4.100017      1066.418748      34.904591              NaN   \n",
            "std          1.321522      1818.905737      10.902987              NaN   \n",
            "min          1.000000         0.000000      20.000000              NaN   \n",
            "25%          3.000000         0.000000      30.000000              NaN   \n",
            "50%          3.000000       202.000000      30.000000              NaN   \n",
            "75%          6.000000      1018.000000      30.000000              NaN   \n",
            "max          6.000000      9999.000000      70.000000              NaN   \n",
            "\n",
            "       2nd_Road_Class  2nd_Road_Number  Urban_or_Rural_Area           Year  \n",
            "count   247619.000000    247619.000000        247619.000000  247619.000000  \n",
            "mean         5.149367       627.214616             1.240171    2013.002177  \n",
            "std          1.402827      1601.968347             0.427188       0.826176  \n",
            "min         -1.000000        -1.000000             1.000000    2012.000000  \n",
            "25%          4.000000         0.000000             1.000000    2012.000000  \n",
            "50%          6.000000         0.000000             1.000000    2013.000000  \n",
            "75%          6.000000       201.000000             1.000000    2014.000000  \n",
            "max          6.000000      9999.000000             2.000000    2014.000000  \n"
          ]
        }
      ]
    },
    {
      "cell_type": "markdown",
      "source": [
        "Here are a few observations:\n",
        "\n",
        "  * Magnitude Differences: The columns like Location_Easting_OSGR, Location_Northing_OSGR, Longitude, and Latitude have significantly different magnitudes compared to other columns, such as Police_Force, Accident_Severity, Number_of_Vehicles, etc.\n",
        "\n",
        "* Speed Limit: The Speed_limit column has a different scale, ranging from 20 to 70, compared to other columns.\n",
        "\n",
        "* Year: The Year column represents the year and is on a different scale compared to other numerical features.\n",
        "\n",
        "Given these differences in scales, it might be beneficial to consider scaling features. This is especially relevant if we plan to use machine learning algorithms that are sensitive to the scale of input features."
      ],
      "metadata": {
        "id": "ssZCUQk7ruNT"
      }
    },
    {
      "cell_type": "markdown",
      "source": [
        " * Min-Max Scaling if have a specific range in which you want data to be, data or algorithm assumes that features are on a similar scale and data does not have extreme outliers.\n",
        "\n",
        "* Choose Standardization if data has outliers, and want a robust scaling method, as algorithm (e.g., SVMs, k-means clustering) assumes features are normally distributed."
      ],
      "metadata": {
        "id": "BDlusFIxs860"
      }
    },
    {
      "cell_type": "code",
      "source": [
        "# Specify the columns to scale\n",
        "columns_to_scale = ['Location_Easting_OSGR', 'Location_Northing_OSGR', 'Longitude', 'Latitude', 'Speed_limit', 'Year']"
      ],
      "metadata": {
        "id": "v4yK8F9WsNdB"
      },
      "execution_count": 30,
      "outputs": []
    },
    {
      "cell_type": "code",
      "source": [
        "# Create a MinMaxScaler\n",
        "scaler = MinMaxScaler()"
      ],
      "metadata": {
        "id": "_3V7JDM6sagO"
      },
      "execution_count": 33,
      "outputs": []
    },
    {
      "cell_type": "code",
      "source": [
        "# Apply Min-Max Scaling to the selected columns\n",
        "df_scaled_minmax = df.copy()\n",
        "df_scaled_minmax[columns_to_scale] = scaler.fit_transform(df[columns_to_scale])"
      ],
      "metadata": {
        "id": "Gh8NOUiJsci3"
      },
      "execution_count": 34,
      "outputs": []
    },
    {
      "cell_type": "code",
      "source": [
        "# Create a StandardScaler\n",
        "# scaler = StandardScaler()"
      ],
      "metadata": {
        "id": "je4AbQRCspLa"
      },
      "execution_count": null,
      "outputs": []
    },
    {
      "cell_type": "code",
      "source": [
        "# Apply Standardization to the selected columns\n",
        "# df_scaled_standardized = df.copy()\n",
        "# df_scaled_standardized[columns_to_scale] = scaler.fit_transform(df[columns_to_scale])"
      ],
      "metadata": {
        "id": "2qcaArQbsu38"
      },
      "execution_count": null,
      "outputs": []
    },
    {
      "cell_type": "markdown",
      "source": [
        "Encoding categorical variables is crucial for many machine learning algorithms that require numerical input.\n",
        "\n",
        "* One-Hot Encoding: is a method of representing categorical data by creating binary columns for each category. Each original category becomes a new column, and the presence or absence of the category is indicated by 1 or 0. One-hot encoding is suitable for nominal categorical data where there is no inherent order among the categories.\n",
        "\n",
        "* Label Encoding: is a method of converting categorical data into numerical values. Each category is assigned a unique integer label. This encoding is suitable for ordinal categorical data, where there is an inherent order among the categories. However, it should be used cautiously with nominal categorical data (categories without a meaningful order) because it may imply an ordinal relationship that doesn't exist.\n",
        "\n",
        "* Important Note:\n",
        "\n",
        " For machine learning algorithms sensitive to the order of numeric labels (e.g., decision trees), one-hot encoding is generally preferred.\n",
        " For algorithms where the order doesn't matter (e.g., logistic regression), either one-hot encoding or label encoding can be used.\n"
      ],
      "metadata": {
        "id": "9KoDUQt9tjYw"
      }
    },
    {
      "cell_type": "code",
      "source": [
        "# Correlation Analysis\n",
        "correlation_matrix = df.corr()\n",
        "plt.figure(figsize=(10, 8))\n",
        "sns.heatmap(correlation_matrix, annot=True, cmap='coolwarm', fmt=\".2f\")\n",
        "plt.title('Correlation Matrix')\n",
        "plt.show()"
      ],
      "metadata": {
        "id": "fbOPTOvbv9mB"
      },
      "execution_count": 35,
      "outputs": []
    },
    {
      "cell_type": "code",
      "source": [
        "# Univariate Analysis\n",
        "for column in df.columns:\n",
        "    plt.figure(figsize=(8, 5))\n",
        "    sns.histplot(df[column], kde=True)\n",
        "    plt.title(f'Distribution of {column}')\n",
        "    plt.show()"
      ],
      "metadata": {
        "id": "SUrLRUWDv1un"
      },
      "execution_count": 35,
      "outputs": []
    }
  ]
}