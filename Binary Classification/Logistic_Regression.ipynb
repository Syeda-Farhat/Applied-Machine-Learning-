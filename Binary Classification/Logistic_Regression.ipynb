{
  "nbformat": 4,
  "nbformat_minor": 0,
  "metadata": {
    "colab": {
      "provenance": []
    },
    "kernelspec": {
      "name": "python3",
      "display_name": "Python 3"
    },
    "language_info": {
      "name": "python"
    }
  },
  "cells": [
    {
      "cell_type": "markdown",
      "source": [
        "# Logistic Regression: A Theoretical Overview"
      ],
      "metadata": {
        "id": "6tVM1Ndf-T3T"
      }
    },
    {
      "cell_type": "markdown",
      "source": [
        "<h2>Introduction:</h2>\n",
        "Logistic Regression is a widely used statistical method for predicting binary outcomes. Despite its name, it is used for classification rather than regression tasks. Logistic regression is a supervised learning algorithm, which means that it learns from a training dataset of data points that have been labeled with the correct answer. The model then uses this information to make predictions on new data points. It's a fundamental algorithm in the field of machine learning and is particularly valuable when the dependent variable is categorical. In logistic regression, the output is transformed using the logistic function, also known as the sigmoid function, to produce a probability value between 0 and 1.\n",
        "\n",
        "<b><h3>The Logistic Function</h3></b>\n",
        "\n",
        "Logistic regression uses a logistic function, also known as the sigmoid function, to transform the linear combination of input features into a probability between 0 and 1.\n",
        "\n",
        "The logistic function is defined as:\n",
        "\n",
        "                      sigmoid(z) = 1 / (1 + e^-z)\n",
        "\n",
        "where z is the linear combination of input features. The probability that the event will occur is predicted to be the logistic function of z.\n",
        "\n",
        "<b><h3>The Decision Boundary</h3></b>\n",
        "\n",
        "The decision boundary is the line that separates the two classes in the data space. In logistic regression, the decision boundary is a hyperplane, which is a generalization of a line to higher dimensions. The point on the decision boundary where the probability of the event occurring is equal to 0.5 is called the threshold.\n",
        "\n",
        "<b><h3>Model Training</h3></b>\n",
        "\n",
        "Logistic regression models are trained using a technique called maximum likelihood estimation (MLE). MLE involves finding the values of the model parameters that maximize the likelihood of the observed data.\n",
        "\n",
        "* <b><h4>Maximum Likelihood Estimation (MLE)</h4></b> Maximum likelihood estimation (MLE) is a statistical method used to estimate the parameters of a probability distribution that best explains the observed data. In logistic regression, the probability distribution is the Bernoulli distribution, which is a discrete probability distribution that takes on two values: 0 and 1. The Bernoulli distribution is used to model the probability of an event occurring, such as whether an email is spam or not, whether a customer will churn or not, or whether a patient will have a heart attack or not.\n",
        "\n",
        "  The likelihood function is a function of the model parameters and the observed data. It represents the probability of observing the data given the model parameters. The goal of MLE is to find the values of the model parameters that maximize the likelihood function.\n",
        "\n",
        "* The Likelihood Function for Logistic Regression is given by:\n",
        "\n",
        "       L(β) = ∏(yᵢ * sigmoid(βᵀxᵢ))^(1-yᵢ) * (1 - sigmoid(βᵀxᵢ))^yᵢ\n",
        "where:\n",
        "\n",
        "  β is a vector of model parameters, xᵢ is a vector of input features for the iᵗʰ data point, yᵢ is the target variable for the iᵗʰ data point (0 for not spam, 1 for spam), sigmoid(z) is the logistic function.\n",
        "The likelihood function can be written in log form, which is more convenient for optimization:\n",
        "\n",
        "       log L(β) = ∑(yᵢ * log(sigmoid(βᵀxᵢ)) + (1 - yᵢ) * log(1 - sigmoid(βᵀxᵢ)))\n",
        "* Optimizing the Likelihood Function\n",
        "\n",
        "  The MLE problem involves finding the values of β that maximize the log likelihood function. This can be done using optimization algorithms, such as gradient descent or Newton-Raphson method.\n",
        "\n",
        "* <h4><b>Gradient Descent</h4></b>\n",
        "\n",
        "  Gradient descent is a widely used optimization algorithm that iteratively updates the model parameters in the direction of the negative gradient of the loss function. The gradient of the log likelihood function with respect to β is given by:\n",
        "\n",
        "                  ∇log L(β) = ∑(xᵢ * (yᵢ - sigmoid(βᵀxᵢ)))\n",
        "The gradient descent algorithm updates the model parameters as follows:\n",
        "\n",
        "                   β = β - α * ∇log L(β)\n",
        "where α is the learning rate.\n",
        "\n",
        "* <b><h4>Regularization</h4></b>\n",
        "\n",
        " Regularization is a technique used to prevent overfitting in logistic regression. Overfitting occurs when the model learns the training data too well and fails to generalize to new data. Regularization can be done by adding a penalty term to the log likelihood function. The penalty term is typically a function of the magnitude of the model parameters.\n",
        "\n",
        "<b><h3>Model Evaluation</h3></b>\n",
        "\n",
        "Logistic regression models are evaluated using a variety of metrics, such as accuracy, precision, recall, and F1-score.\n",
        "\n",
        "*   Accuracy is the proportion of predictions that are correct.\n",
        "*   Precision is the proportion of positive predictions that are actually positive.\n",
        "*   Recall is the proportion of actual positive cases that are correctly predicted to be positive.\n",
        "*   F1-score is the harmonic mean of precision and recall.\n",
        "\n",
        "  \n",
        "\n",
        "<b><h3>Applications of Logistic Regression</h3></b>\n",
        "\n",
        "Logistic regression is a versatile tool that can be used for a wide variety of applications, including:\n",
        "\n",
        "*  Medical diagnosis: Predicting the probability of a patient having a particular disease or condition\n",
        "\n",
        "*  Fraud detection: Identifying fraudulent transactions\n",
        "\n",
        "*  Marketing: Predicting the likelihood of a customer purchasing a product or service\n",
        "\n",
        "*  Spam filtering: Classifying emails as spam or not spam\n",
        "\n",
        "*  Natural language processing: Classifying text documents into different categories\n",
        "\n",
        "<b><h3>Advantages of Logistic Regression</h3></b>\n",
        "\n",
        "Logistic regression is a popular choice for binary classification tasks because it is:\n",
        "\n",
        "* The coefficients of the logistic regression equation can be interpreted as the relative importance of the input features\n",
        "\n",
        "* Logistic regression is relatively robust to outliers in the data\n",
        "\n",
        "*  Logistic regression models can be trained efficiently using optimization algorithms\n",
        "\n",
        "<b><h3>Disadvantages of Logistic Regression</h3></b>\n",
        "\n",
        "Logistic regression also has some disadvantages, including:\n",
        "\n",
        "*  Logistic regression can only be used for binary classification tasks\n",
        "\n",
        "* Logistic regression assumes that the relationship between the input features and the output is linear\n",
        "\n",
        "* Logistic regression can be sensitive to imbalanced data, where one class is much more prevalent than the other\n",
        "\n",
        "<b><h3>Conclusion</h3></b>\n",
        "\n",
        "Logistic regression is a powerful and versatile statistical model that can be used for a wide variety of binary classification tasks. It is a popular choice for machine learning applications because it is easy to understand, interpret, and implement."
      ],
      "metadata": {
        "id": "nIBYI_Wl-XJi"
      }
    },
    {
      "cell_type": "markdown",
      "source": [
        "# Implementation of Logistic Regression concepts\n",
        "\n",
        "Used Iris dataset which is available at: https://www.kaggle.com/datasets/arshid/iris-flower-dataset .And we can also use the dataset by sklearn library. In this implementation of logistic regression using the Iris dataset, we aimed to predict whether a flower is of the species \"Iris-setosa\" based on its sepal length and sepal width.\n",
        "\n",
        "This implementation of logistic regression is primarily for educational purposes, focusing on understanding the fundamental concepts of logistic regression rather than comprehensive data preprocessing techniques and exploratory data analysis (EDA). Detailed data preprocessing and EDA for both text and numeric data are covered in separate files within this repository.\n",
        "https://github.com/Syeda-Farhat/Applied-Machine-Learning-/tree/main\n",
        "\n",
        "The goal here is to provide a clear and in-depth exploration of logistic regression implementation concepts. For a more holistic understanding of the machine learning workflow, we recommend referring to the dedicated files on data preprocessing and EDA available in this repository."
      ],
      "metadata": {
        "id": "703MwXDTKbx3"
      }
    },
    {
      "cell_type": "code",
      "source": [
        "# Import necessary libraries\n",
        "import pandas as pd\n",
        "import numpy as np\n",
        "import matplotlib.pyplot as plt\n",
        "from sklearn.model_selection import train_test_split\n",
        "from sklearn.linear_model import LogisticRegression\n",
        "from sklearn.metrics import accuracy_score, confusion_matrix, precision_score, recall_score, f1_score"
      ],
      "metadata": {
        "id": "6cA3R1BR-Wxb"
      },
      "execution_count": 26,
      "outputs": []
    },
    {
      "cell_type": "code",
      "source": [
        "iris = pd.read_csv('/content/IRIS.csv') # reading dataset"
      ],
      "metadata": {
        "id": "hBmUl53wN5N5"
      },
      "execution_count": 12,
      "outputs": []
    },
    {
      "cell_type": "code",
      "source": [
        "iris.head() # displaying first 5 rows of dataset"
      ],
      "metadata": {
        "colab": {
          "base_uri": "https://localhost:8080/",
          "height": 206
        },
        "id": "Iv0x7MqvOEkE",
        "outputId": "1e5539e6-aa44-4864-f620-e1ed7c1aee53"
      },
      "execution_count": 13,
      "outputs": [
        {
          "output_type": "execute_result",
          "data": {
            "text/plain": [
              "   sepal_length  sepal_width  petal_length  petal_width      species\n",
              "0           5.1          3.5           1.4          0.2  Iris-setosa\n",
              "1           4.9          3.0           1.4          0.2  Iris-setosa\n",
              "2           4.7          3.2           1.3          0.2  Iris-setosa\n",
              "3           4.6          3.1           1.5          0.2  Iris-setosa\n",
              "4           5.0          3.6           1.4          0.2  Iris-setosa"
            ],
            "text/html": [
              "\n",
              "  <div id=\"df-93740c18-b817-4a05-beeb-ad2a0874be8d\" class=\"colab-df-container\">\n",
              "    <div>\n",
              "<style scoped>\n",
              "    .dataframe tbody tr th:only-of-type {\n",
              "        vertical-align: middle;\n",
              "    }\n",
              "\n",
              "    .dataframe tbody tr th {\n",
              "        vertical-align: top;\n",
              "    }\n",
              "\n",
              "    .dataframe thead th {\n",
              "        text-align: right;\n",
              "    }\n",
              "</style>\n",
              "<table border=\"1\" class=\"dataframe\">\n",
              "  <thead>\n",
              "    <tr style=\"text-align: right;\">\n",
              "      <th></th>\n",
              "      <th>sepal_length</th>\n",
              "      <th>sepal_width</th>\n",
              "      <th>petal_length</th>\n",
              "      <th>petal_width</th>\n",
              "      <th>species</th>\n",
              "    </tr>\n",
              "  </thead>\n",
              "  <tbody>\n",
              "    <tr>\n",
              "      <th>0</th>\n",
              "      <td>5.1</td>\n",
              "      <td>3.5</td>\n",
              "      <td>1.4</td>\n",
              "      <td>0.2</td>\n",
              "      <td>Iris-setosa</td>\n",
              "    </tr>\n",
              "    <tr>\n",
              "      <th>1</th>\n",
              "      <td>4.9</td>\n",
              "      <td>3.0</td>\n",
              "      <td>1.4</td>\n",
              "      <td>0.2</td>\n",
              "      <td>Iris-setosa</td>\n",
              "    </tr>\n",
              "    <tr>\n",
              "      <th>2</th>\n",
              "      <td>4.7</td>\n",
              "      <td>3.2</td>\n",
              "      <td>1.3</td>\n",
              "      <td>0.2</td>\n",
              "      <td>Iris-setosa</td>\n",
              "    </tr>\n",
              "    <tr>\n",
              "      <th>3</th>\n",
              "      <td>4.6</td>\n",
              "      <td>3.1</td>\n",
              "      <td>1.5</td>\n",
              "      <td>0.2</td>\n",
              "      <td>Iris-setosa</td>\n",
              "    </tr>\n",
              "    <tr>\n",
              "      <th>4</th>\n",
              "      <td>5.0</td>\n",
              "      <td>3.6</td>\n",
              "      <td>1.4</td>\n",
              "      <td>0.2</td>\n",
              "      <td>Iris-setosa</td>\n",
              "    </tr>\n",
              "  </tbody>\n",
              "</table>\n",
              "</div>\n",
              "    <div class=\"colab-df-buttons\">\n",
              "\n",
              "  <div class=\"colab-df-container\">\n",
              "    <button class=\"colab-df-convert\" onclick=\"convertToInteractive('df-93740c18-b817-4a05-beeb-ad2a0874be8d')\"\n",
              "            title=\"Convert this dataframe to an interactive table.\"\n",
              "            style=\"display:none;\">\n",
              "\n",
              "  <svg xmlns=\"http://www.w3.org/2000/svg\" height=\"24px\" viewBox=\"0 -960 960 960\">\n",
              "    <path d=\"M120-120v-720h720v720H120Zm60-500h600v-160H180v160Zm220 220h160v-160H400v160Zm0 220h160v-160H400v160ZM180-400h160v-160H180v160Zm440 0h160v-160H620v160ZM180-180h160v-160H180v160Zm440 0h160v-160H620v160Z\"/>\n",
              "  </svg>\n",
              "    </button>\n",
              "\n",
              "  <style>\n",
              "    .colab-df-container {\n",
              "      display:flex;\n",
              "      gap: 12px;\n",
              "    }\n",
              "\n",
              "    .colab-df-convert {\n",
              "      background-color: #E8F0FE;\n",
              "      border: none;\n",
              "      border-radius: 50%;\n",
              "      cursor: pointer;\n",
              "      display: none;\n",
              "      fill: #1967D2;\n",
              "      height: 32px;\n",
              "      padding: 0 0 0 0;\n",
              "      width: 32px;\n",
              "    }\n",
              "\n",
              "    .colab-df-convert:hover {\n",
              "      background-color: #E2EBFA;\n",
              "      box-shadow: 0px 1px 2px rgba(60, 64, 67, 0.3), 0px 1px 3px 1px rgba(60, 64, 67, 0.15);\n",
              "      fill: #174EA6;\n",
              "    }\n",
              "\n",
              "    .colab-df-buttons div {\n",
              "      margin-bottom: 4px;\n",
              "    }\n",
              "\n",
              "    [theme=dark] .colab-df-convert {\n",
              "      background-color: #3B4455;\n",
              "      fill: #D2E3FC;\n",
              "    }\n",
              "\n",
              "    [theme=dark] .colab-df-convert:hover {\n",
              "      background-color: #434B5C;\n",
              "      box-shadow: 0px 1px 3px 1px rgba(0, 0, 0, 0.15);\n",
              "      filter: drop-shadow(0px 1px 2px rgba(0, 0, 0, 0.3));\n",
              "      fill: #FFFFFF;\n",
              "    }\n",
              "  </style>\n",
              "\n",
              "    <script>\n",
              "      const buttonEl =\n",
              "        document.querySelector('#df-93740c18-b817-4a05-beeb-ad2a0874be8d button.colab-df-convert');\n",
              "      buttonEl.style.display =\n",
              "        google.colab.kernel.accessAllowed ? 'block' : 'none';\n",
              "\n",
              "      async function convertToInteractive(key) {\n",
              "        const element = document.querySelector('#df-93740c18-b817-4a05-beeb-ad2a0874be8d');\n",
              "        const dataTable =\n",
              "          await google.colab.kernel.invokeFunction('convertToInteractive',\n",
              "                                                    [key], {});\n",
              "        if (!dataTable) return;\n",
              "\n",
              "        const docLinkHtml = 'Like what you see? Visit the ' +\n",
              "          '<a target=\"_blank\" href=https://colab.research.google.com/notebooks/data_table.ipynb>data table notebook</a>'\n",
              "          + ' to learn more about interactive tables.';\n",
              "        element.innerHTML = '';\n",
              "        dataTable['output_type'] = 'display_data';\n",
              "        await google.colab.output.renderOutput(dataTable, element);\n",
              "        const docLink = document.createElement('div');\n",
              "        docLink.innerHTML = docLinkHtml;\n",
              "        element.appendChild(docLink);\n",
              "      }\n",
              "    </script>\n",
              "  </div>\n",
              "\n",
              "\n",
              "<div id=\"df-b70b0c32-119c-4b30-8386-05b0470f4fff\">\n",
              "  <button class=\"colab-df-quickchart\" onclick=\"quickchart('df-b70b0c32-119c-4b30-8386-05b0470f4fff')\"\n",
              "            title=\"Suggest charts\"\n",
              "            style=\"display:none;\">\n",
              "\n",
              "<svg xmlns=\"http://www.w3.org/2000/svg\" height=\"24px\"viewBox=\"0 0 24 24\"\n",
              "     width=\"24px\">\n",
              "    <g>\n",
              "        <path d=\"M19 3H5c-1.1 0-2 .9-2 2v14c0 1.1.9 2 2 2h14c1.1 0 2-.9 2-2V5c0-1.1-.9-2-2-2zM9 17H7v-7h2v7zm4 0h-2V7h2v10zm4 0h-2v-4h2v4z\"/>\n",
              "    </g>\n",
              "</svg>\n",
              "  </button>\n",
              "\n",
              "<style>\n",
              "  .colab-df-quickchart {\n",
              "      --bg-color: #E8F0FE;\n",
              "      --fill-color: #1967D2;\n",
              "      --hover-bg-color: #E2EBFA;\n",
              "      --hover-fill-color: #174EA6;\n",
              "      --disabled-fill-color: #AAA;\n",
              "      --disabled-bg-color: #DDD;\n",
              "  }\n",
              "\n",
              "  [theme=dark] .colab-df-quickchart {\n",
              "      --bg-color: #3B4455;\n",
              "      --fill-color: #D2E3FC;\n",
              "      --hover-bg-color: #434B5C;\n",
              "      --hover-fill-color: #FFFFFF;\n",
              "      --disabled-bg-color: #3B4455;\n",
              "      --disabled-fill-color: #666;\n",
              "  }\n",
              "\n",
              "  .colab-df-quickchart {\n",
              "    background-color: var(--bg-color);\n",
              "    border: none;\n",
              "    border-radius: 50%;\n",
              "    cursor: pointer;\n",
              "    display: none;\n",
              "    fill: var(--fill-color);\n",
              "    height: 32px;\n",
              "    padding: 0;\n",
              "    width: 32px;\n",
              "  }\n",
              "\n",
              "  .colab-df-quickchart:hover {\n",
              "    background-color: var(--hover-bg-color);\n",
              "    box-shadow: 0 1px 2px rgba(60, 64, 67, 0.3), 0 1px 3px 1px rgba(60, 64, 67, 0.15);\n",
              "    fill: var(--button-hover-fill-color);\n",
              "  }\n",
              "\n",
              "  .colab-df-quickchart-complete:disabled,\n",
              "  .colab-df-quickchart-complete:disabled:hover {\n",
              "    background-color: var(--disabled-bg-color);\n",
              "    fill: var(--disabled-fill-color);\n",
              "    box-shadow: none;\n",
              "  }\n",
              "\n",
              "  .colab-df-spinner {\n",
              "    border: 2px solid var(--fill-color);\n",
              "    border-color: transparent;\n",
              "    border-bottom-color: var(--fill-color);\n",
              "    animation:\n",
              "      spin 1s steps(1) infinite;\n",
              "  }\n",
              "\n",
              "  @keyframes spin {\n",
              "    0% {\n",
              "      border-color: transparent;\n",
              "      border-bottom-color: var(--fill-color);\n",
              "      border-left-color: var(--fill-color);\n",
              "    }\n",
              "    20% {\n",
              "      border-color: transparent;\n",
              "      border-left-color: var(--fill-color);\n",
              "      border-top-color: var(--fill-color);\n",
              "    }\n",
              "    30% {\n",
              "      border-color: transparent;\n",
              "      border-left-color: var(--fill-color);\n",
              "      border-top-color: var(--fill-color);\n",
              "      border-right-color: var(--fill-color);\n",
              "    }\n",
              "    40% {\n",
              "      border-color: transparent;\n",
              "      border-right-color: var(--fill-color);\n",
              "      border-top-color: var(--fill-color);\n",
              "    }\n",
              "    60% {\n",
              "      border-color: transparent;\n",
              "      border-right-color: var(--fill-color);\n",
              "    }\n",
              "    80% {\n",
              "      border-color: transparent;\n",
              "      border-right-color: var(--fill-color);\n",
              "      border-bottom-color: var(--fill-color);\n",
              "    }\n",
              "    90% {\n",
              "      border-color: transparent;\n",
              "      border-bottom-color: var(--fill-color);\n",
              "    }\n",
              "  }\n",
              "</style>\n",
              "\n",
              "  <script>\n",
              "    async function quickchart(key) {\n",
              "      const quickchartButtonEl =\n",
              "        document.querySelector('#' + key + ' button');\n",
              "      quickchartButtonEl.disabled = true;  // To prevent multiple clicks.\n",
              "      quickchartButtonEl.classList.add('colab-df-spinner');\n",
              "      try {\n",
              "        const charts = await google.colab.kernel.invokeFunction(\n",
              "            'suggestCharts', [key], {});\n",
              "      } catch (error) {\n",
              "        console.error('Error during call to suggestCharts:', error);\n",
              "      }\n",
              "      quickchartButtonEl.classList.remove('colab-df-spinner');\n",
              "      quickchartButtonEl.classList.add('colab-df-quickchart-complete');\n",
              "    }\n",
              "    (() => {\n",
              "      let quickchartButtonEl =\n",
              "        document.querySelector('#df-b70b0c32-119c-4b30-8386-05b0470f4fff button');\n",
              "      quickchartButtonEl.style.display =\n",
              "        google.colab.kernel.accessAllowed ? 'block' : 'none';\n",
              "    })();\n",
              "  </script>\n",
              "</div>\n",
              "    </div>\n",
              "  </div>\n"
            ]
          },
          "metadata": {},
          "execution_count": 13
        }
      ]
    },
    {
      "cell_type": "code",
      "source": [
        "# Map 'Iris-setosa' to 1 and other species to 0 for binary classification\n",
        "iris['target'] = np.where(iris['species'] == 'Iris-setosa', 1, 0)"
      ],
      "metadata": {
        "id": "3yvvV8cAO6he"
      },
      "execution_count": 16,
      "outputs": []
    },
    {
      "cell_type": "code",
      "execution_count": 17,
      "metadata": {
        "id": "IRIJ3OBB-Q_N"
      },
      "outputs": [],
      "source": [
        "# Select features and target variable\n",
        "X = iris[['sepal_length', 'sepal_width']].values\n",
        "y = iris['target'].values"
      ]
    },
    {
      "cell_type": "code",
      "source": [
        "# Split the data into training and testing sets\n",
        "X_train, X_test, y_train, y_test = train_test_split(X, y, test_size=0.2, random_state=42)\n"
      ],
      "metadata": {
        "id": "o4QQCJ91P4Dx"
      },
      "execution_count": 18,
      "outputs": []
    },
    {
      "cell_type": "code",
      "source": [
        "# Create and train the Logistic Regression model\n",
        "model = LogisticRegression()\n",
        "model.fit(X_train, y_train)"
      ],
      "metadata": {
        "colab": {
          "base_uri": "https://localhost:8080/",
          "height": 74
        },
        "id": "M8U43ga1P-qo",
        "outputId": "1dc389ad-e1e0-4d75-9e90-5c03c5acc191"
      },
      "execution_count": 19,
      "outputs": [
        {
          "output_type": "execute_result",
          "data": {
            "text/plain": [
              "LogisticRegression()"
            ],
            "text/html": [
              "<style>#sk-container-id-1 {color: black;background-color: white;}#sk-container-id-1 pre{padding: 0;}#sk-container-id-1 div.sk-toggleable {background-color: white;}#sk-container-id-1 label.sk-toggleable__label {cursor: pointer;display: block;width: 100%;margin-bottom: 0;padding: 0.3em;box-sizing: border-box;text-align: center;}#sk-container-id-1 label.sk-toggleable__label-arrow:before {content: \"▸\";float: left;margin-right: 0.25em;color: #696969;}#sk-container-id-1 label.sk-toggleable__label-arrow:hover:before {color: black;}#sk-container-id-1 div.sk-estimator:hover label.sk-toggleable__label-arrow:before {color: black;}#sk-container-id-1 div.sk-toggleable__content {max-height: 0;max-width: 0;overflow: hidden;text-align: left;background-color: #f0f8ff;}#sk-container-id-1 div.sk-toggleable__content pre {margin: 0.2em;color: black;border-radius: 0.25em;background-color: #f0f8ff;}#sk-container-id-1 input.sk-toggleable__control:checked~div.sk-toggleable__content {max-height: 200px;max-width: 100%;overflow: auto;}#sk-container-id-1 input.sk-toggleable__control:checked~label.sk-toggleable__label-arrow:before {content: \"▾\";}#sk-container-id-1 div.sk-estimator input.sk-toggleable__control:checked~label.sk-toggleable__label {background-color: #d4ebff;}#sk-container-id-1 div.sk-label input.sk-toggleable__control:checked~label.sk-toggleable__label {background-color: #d4ebff;}#sk-container-id-1 input.sk-hidden--visually {border: 0;clip: rect(1px 1px 1px 1px);clip: rect(1px, 1px, 1px, 1px);height: 1px;margin: -1px;overflow: hidden;padding: 0;position: absolute;width: 1px;}#sk-container-id-1 div.sk-estimator {font-family: monospace;background-color: #f0f8ff;border: 1px dotted black;border-radius: 0.25em;box-sizing: border-box;margin-bottom: 0.5em;}#sk-container-id-1 div.sk-estimator:hover {background-color: #d4ebff;}#sk-container-id-1 div.sk-parallel-item::after {content: \"\";width: 100%;border-bottom: 1px solid gray;flex-grow: 1;}#sk-container-id-1 div.sk-label:hover label.sk-toggleable__label {background-color: #d4ebff;}#sk-container-id-1 div.sk-serial::before {content: \"\";position: absolute;border-left: 1px solid gray;box-sizing: border-box;top: 0;bottom: 0;left: 50%;z-index: 0;}#sk-container-id-1 div.sk-serial {display: flex;flex-direction: column;align-items: center;background-color: white;padding-right: 0.2em;padding-left: 0.2em;position: relative;}#sk-container-id-1 div.sk-item {position: relative;z-index: 1;}#sk-container-id-1 div.sk-parallel {display: flex;align-items: stretch;justify-content: center;background-color: white;position: relative;}#sk-container-id-1 div.sk-item::before, #sk-container-id-1 div.sk-parallel-item::before {content: \"\";position: absolute;border-left: 1px solid gray;box-sizing: border-box;top: 0;bottom: 0;left: 50%;z-index: -1;}#sk-container-id-1 div.sk-parallel-item {display: flex;flex-direction: column;z-index: 1;position: relative;background-color: white;}#sk-container-id-1 div.sk-parallel-item:first-child::after {align-self: flex-end;width: 50%;}#sk-container-id-1 div.sk-parallel-item:last-child::after {align-self: flex-start;width: 50%;}#sk-container-id-1 div.sk-parallel-item:only-child::after {width: 0;}#sk-container-id-1 div.sk-dashed-wrapped {border: 1px dashed gray;margin: 0 0.4em 0.5em 0.4em;box-sizing: border-box;padding-bottom: 0.4em;background-color: white;}#sk-container-id-1 div.sk-label label {font-family: monospace;font-weight: bold;display: inline-block;line-height: 1.2em;}#sk-container-id-1 div.sk-label-container {text-align: center;}#sk-container-id-1 div.sk-container {/* jupyter's `normalize.less` sets `[hidden] { display: none; }` but bootstrap.min.css set `[hidden] { display: none !important; }` so we also need the `!important` here to be able to override the default hidden behavior on the sphinx rendered scikit-learn.org. See: https://github.com/scikit-learn/scikit-learn/issues/21755 */display: inline-block !important;position: relative;}#sk-container-id-1 div.sk-text-repr-fallback {display: none;}</style><div id=\"sk-container-id-1\" class=\"sk-top-container\"><div class=\"sk-text-repr-fallback\"><pre>LogisticRegression()</pre><b>In a Jupyter environment, please rerun this cell to show the HTML representation or trust the notebook. <br />On GitHub, the HTML representation is unable to render, please try loading this page with nbviewer.org.</b></div><div class=\"sk-container\" hidden><div class=\"sk-item\"><div class=\"sk-estimator sk-toggleable\"><input class=\"sk-toggleable__control sk-hidden--visually\" id=\"sk-estimator-id-1\" type=\"checkbox\" checked><label for=\"sk-estimator-id-1\" class=\"sk-toggleable__label sk-toggleable__label-arrow\">LogisticRegression</label><div class=\"sk-toggleable__content\"><pre>LogisticRegression()</pre></div></div></div></div></div>"
            ]
          },
          "metadata": {},
          "execution_count": 19
        }
      ]
    },
    {
      "cell_type": "code",
      "source": [
        "# Make predictions on the test set\n",
        "y_pred = model.predict(X_test)"
      ],
      "metadata": {
        "id": "7HtFw8jYQB3c"
      },
      "execution_count": 20,
      "outputs": []
    },
    {
      "cell_type": "code",
      "source": [
        "# Evaluate the model\n",
        "accuracy = accuracy_score(y_test, y_pred)\n",
        "precision = precision_score(y_test, y_pred)\n",
        "recall = recall_score(y_test, y_pred)\n",
        "f1 = f1_score(y_test, y_pred)"
      ],
      "metadata": {
        "id": "b34UjYchQFcL"
      },
      "execution_count": 21,
      "outputs": []
    },
    {
      "cell_type": "code",
      "source": [
        "conf_matrix = confusion_matrix(y_test, y_pred)"
      ],
      "metadata": {
        "id": "cNBXa29qQIJZ"
      },
      "execution_count": 22,
      "outputs": []
    },
    {
      "cell_type": "code",
      "source": [
        "# Plot decision boundary\n",
        "x_min, x_max = X[:, 0].min() - 1, X[:, 0].max() + 1\n",
        "y_min, y_max = X[:, 1].min() - 1, X[:, 1].max() + 1\n",
        "xx, yy = np.meshgrid(np.arange(x_min, x_max, 0.01), np.arange(y_min, y_max, 0.01))\n",
        "Z = model.predict(np.c_[xx.ravel(), yy.ravel()])\n",
        "Z = Z.reshape(xx.shape)"
      ],
      "metadata": {
        "id": "xYtoAFY2QZ95"
      },
      "execution_count": 23,
      "outputs": []
    },
    {
      "cell_type": "code",
      "source": [
        "# Plot the decision boundary and scatter plot of data points\n",
        "plt.contourf(xx, yy, Z, alpha=0.3)\n",
        "plt.scatter(X[:, 0], X[:, 1], c=y, edgecolors='k', marker='o', s=100, linewidth=1)\n",
        "plt.xlabel('Sepal Length')\n",
        "plt.ylabel('Sepal Width')\n",
        "plt.title('Logistic Regression - Iris Setosa Prediction')\n",
        "plt.show()"
      ],
      "metadata": {
        "colab": {
          "base_uri": "https://localhost:8080/",
          "height": 472
        },
        "id": "zEYA3Ef-QgFp",
        "outputId": "ef3b6057-c348-44c8-a052-a2ae22b24c1c"
      },
      "execution_count": 24,
      "outputs": [
        {
          "output_type": "display_data",
          "data": {
            "text/plain": [
              "<Figure size 640x480 with 1 Axes>"
            ],
            "image/png": "[encoded data removed]"
          },
          "metadata": {}
        }
      ]
    },
    {
      "cell_type": "code",
      "source": [
        "# Print evaluation metrics\n",
        "print(f\"Accuracy: {accuracy:.2f}\")\n",
        "print(f\"Precision: {precision:.2f}\")\n",
        "print(f\"Recall: {recall:.2f}\")\n",
        "print(f\"F1 Score: {f1:.2f}\")\n",
        "print(\"Confusion Matrix:\")\n",
        "print(conf_matrix)"
      ],
      "metadata": {
        "colab": {
          "base_uri": "https://localhost:8080/"
        },
        "id": "0JoncsVMQj6x",
        "outputId": "8dba401f-b636-4db6-9c6b-cd9d1b235465"
      },
      "execution_count": 25,
      "outputs": [
        {
          "output_type": "stream",
          "name": "stdout",
          "text": [
            "Accuracy: 1.00\n",
            "Precision: 1.00\n",
            "Recall: 1.00\n",
            "F1 Score: 1.00\n",
            "Confusion Matrix:\n",
            "[[20  0]\n",
            " [ 0 10]]\n"
          ]
        }
      ]
    },
    {
      "cell_type": "markdown",
      "source": [
        "Here's an interpretation of the results:\n",
        "\n",
        "    Accuracy: 1.00 (100%):\n",
        "        All predictions made by the model were correct.\n",
        "        Accuracy is the proportion of correct predictions among the total predictions.\n",
        "\n",
        "    Precision: 1.00 (100%):\n",
        "        Of all the instances predicted as \"Iris-setosa,\" none were false positives.\n",
        "        Precision is the proportion of true positives among the instances predicted as positive.\n",
        "\n",
        "    Recall: 1.00 (100%):\n",
        "        The model correctly identified all instances of \"Iris-setosa\" in the dataset.\n",
        "        Recall is the proportion of true positives among the actual positive instances.\n",
        "\n",
        "    F1 Score: 1.00 (100%):\n",
        "        The harmonic mean of precision and recall is perfect, indicating a balance between precision and recall.\n",
        "        F1 score is particularly useful when there is an uneven class distribution.\n",
        "\n",
        "    Confusion Matrix:\n",
        "\n",
        "    [[20  0]\n",
        "     [ 0 10]]\n",
        "\n",
        "        The confusion matrix shows that there were 20 true negatives, 10 true positives, and no false positives or false negatives.\n",
        "        The model correctly classified all instances.\n",
        "\n",
        "Overall, these results suggest that the logistic regression model achieved perfect classification performance on the provided dataset. However, it's essential to consider the context and characteristics of the dataset. In some cases, perfect performance might indicate overfitting, especially if the dataset is small. Further testing on diverse datasets or with additional features may be necessary to validate the model's generalization ability."
      ],
      "metadata": {
        "id": "Y1NFmCNyUdVO"
      }
    },
    {
      "cell_type": "code",
      "source": [],
      "metadata": {
        "id": "1p5DEHGrUp2_"
      },
      "execution_count": null,
      "outputs": []
    }
  ]
}